{
 "cells": [
  {
   "cell_type": "markdown",
   "metadata": {},
   "source": [
    "# Learning with SARSA($\\lambda$) & Linear function approximation \n",
    "\n",
    "## Yue Dong & Ali Emami\n",
    "In this assignment, Ali and I want to demonstrate the experiments of performing SARSA($\\lambda$) using linear function approximation. We use the SARSA algorithm for on-policy control, implemented using the backward-view (eligibility traces).\n",
    "\n",
    "The difference of using linear function approximation in SARSA is that the action-value function Q(s,a) is approximated linearly by the function\n",
    "$$Q(s,a,W)= \\phi(s,a)^T * W$$ where W is a vector and $\\phi$ a vector representing features."
   ]
  },
  {
   "cell_type": "markdown",
   "metadata": {},
   "source": [
    "## 1. Learning Easy21 with SARSA($\\lambda$) and linear function approximation"
   ]
  },
  {
   "cell_type": "markdown",
   "metadata": {},
   "source": [
    "The environment are defined in the script easy21game.py. The easy 21 is a simplified version of blackjack where the following rules are use:\n",
    "\n",
    "- In each round, we draw cards with replacement from an infinite deck of cards. \n",
    "- Each draw results in a black (prob. 2/3) or red (prob. 2/3) card with values among 1 to 10. So there is no usable ace or face cards.\n",
    "- At the beginning of the game, both player and dealer can only draw one black card\n",
    "- Each turn the player may either stick or hit, hit means the player will draw another card, until he/she stick and the player side ends.\n",
    "- Then the value of black cards are added and the value of red card are subtracted. \n",
    "- busted and lose the game if player's sum exceeds 21 or smaller than 1. Lose the game and receive reward -1.\n",
    "- Otherwise, dealer's turn. dealer plays a fixed policy of sticks on any sum greater or equals to 17. If the dealer goes bust, then the player wins; otherwise, compare dealer's and player's card and the outcome is – win (reward +1), lose (reward -1), or draw (reward 0)."
   ]
  },
  {
   "cell_type": "markdown",
   "metadata": {},
   "source": [
    "### Linear function approximation\n",
    "To use linear function approximation, we define $\\phi$ and W to be a vector of length 36. \n",
    "$\\phi(s,a)$ is a binary feature vector with $3*6*2 = 36$ features. Each binary feature\n",
    " has a value of 1 if (s,a) lies within the cuboid of state-space corresponding to\n",
    " that feature, and the action corresponding to that feature. The cuboids have\n",
    " the following overlapping intervals:\n",
    "   - dealer(s) = [1: 4]; [4: 7]; [7: 10]\n",
    "   - player(s) = [1: 6]; [4: 9]; [7: 12]; [10: 15]; [13: 18]; [16: 21]\n",
    "   - a = 1 (hit); a = 0 (stick)\n",
    "\n",
    "\n",
    "\n"
   ]
  },
  {
   "cell_type": "code",
   "execution_count": 21,
   "metadata": {
    "collapsed": false
   },
   "outputs": [],
   "source": [
    "#!/usr/bin/env python3\n",
    "# -*- coding: utf-8 -*-\n",
    "\"\"\"\n",
    "Created on Wed Mar 22 22:08:39 2017\n",
    "\n",
    "@author: yuedong\n",
    "\"\"\"\n",
    "\n",
    "import os\n",
    "os.chdir(\"/Users/yuedong/Downloads/comp767_easy21LA/\")\n",
    "#%%\n",
    "\n",
    "from easy21game import Easy21\n",
    "import numpy as np\n",
    "from matplotlib import cm\n",
    "#%%\n",
    "env = Easy21()\n",
    "\n",
    "#%% code the state-action paris into features\n",
    "\n",
    "# INPUT\n",
    "#   dealerState: card value of the dealer, integer between 1 and 10\n",
    "# OUTPUT\n",
    "#   boolean vector coding the dealer card to 3 intervals\n",
    "def dealerFeatures(dealerState):\n",
    "    dealerVec = np.array([dealerState in [1,2,3,4], dealerState in [4,5,6,7], \n",
    "                   dealerState in [7,8,9,10]]).astype('int')\n",
    "    return np.where(dealerVec)[0]\n",
    "  \n",
    "    \n",
    "# INPUT\n",
    "#   playerState: sum of the player, integer between 1 and 21\n",
    "# OUTPUT\n",
    "#   boolean vector coding the player card interval on 6 bits\n",
    "def playerFeatures(playerState):\n",
    "    playerVec = np.array([playerState in [1,2,3,4,5,6], \n",
    "                     playerState in [4,5,6,7,8,9],\n",
    "                     playerState in [7,8,9,10,11,12],\n",
    "                     playerState in [10,11,12,13,14,15],\n",
    "                     playerState in [13,14,15,16,17,18],\n",
    "                     playerState in [16,17,18,19,20,21]]).astype('int')\n",
    "    return np.where(playerVec)[0]\n",
    "\n",
    "\n",
    "# INPUTS\n",
    "#   s: state =(playerState,dealerState) (as defined in env._step)\n",
    "#   a: action, integer: HIT(1) or STICK(0)\n",
    "# returns a binary vector of length 36 representing the features\n",
    "def phi(s, a):\n",
    "    tmp = np.zeros(shape=(3,6,2)) #zeros array of dim 3*6*2\n",
    "    #putting one where a feature is on\n",
    "    for i in dealerFeatures(s[1]):\n",
    "        for j in playerFeatures(s[0]):\n",
    "            tmp[i,j,a] = 1 \n",
    "    return(tmp.flatten()) #returning 'vectorized' (1-dim) array\n",
    "#%%\n",
    "class Sarsa_Agent:\n",
    "    def __init__(self, environment, mlambda, gamma=1, step_size=0.01):\n",
    "\n",
    "        self.env = environment\n",
    "        self.mlambda = mlambda\n",
    "        self.gamma = gamma\n",
    "        self.step_size = step_size\n",
    "        #initialize everything\n",
    "#        self.Q = np.zeros((self.env.dealer_space,\n",
    "#                           self.env.player_space, \n",
    "#                           self.env.nA))\n",
    "         \n",
    "        self.V = np.zeros((self.env.dealer_space,\n",
    "                           self.env.player_space))\n",
    "        \n",
    "        self.W = np.zeros(36)\n",
    "        self.E = np.zeros(36)\n",
    "        \n",
    "        self.iterations = 0\n",
    "        \n",
    "        \n",
    "    # Q is simply the dot product of phi and w\n",
    "    def cal_Q(self,s,a):\n",
    "        return np.dot(phi(s,a),self.W)\n",
    "\n",
    "\n",
    "          # get optimal action based on ε-greedy exploration strategy  \n",
    "    def epsilon_greedy_action(self, state, epsilon=0.05):\n",
    "        # action = 0 stick\n",
    "        # action = 1 hit\n",
    "        hit = 1\n",
    "        stick = 0\n",
    "        # epsilon greedy policy\n",
    "        if np.random.random() < epsilon:\n",
    "            r_action = hit if np.random.random()<0.5 else stick\n",
    "            return r_action\n",
    "        else:\n",
    "            action = np.argmax([self.cal_Q(state,0),self.cal_Q(state,1)])\n",
    "            return action\n",
    "        \n",
    "    \n",
    "    def train(self, iterations):        \n",
    "        # Loop episodes\n",
    "        for episode in range(iterations):\n",
    "            self.E = np.zeros(36)\n",
    "\n",
    "            # get initial state for current episode\n",
    "            s = self.env._reset()\n",
    "            a = self.epsilon_greedy_action(s)\n",
    "            a_next = a\n",
    "            term = False\n",
    "            #r = 0\n",
    "            \n",
    "            # Execute until game ends\n",
    "            while not term:\n",
    "                \n",
    "                # execute action\n",
    "                s_next, r, term = self.env._step(a)[0:3]\n",
    "                q = self.cal_Q(s,a)\n",
    "                                \n",
    "                if not term:\n",
    "                    # choose next action with epsilon greedy policy\n",
    "                    a_next = self.epsilon_greedy_action(s_next)\n",
    "                    q_next = self.cal_Q(s_next,a_next)\n",
    "                    delta = r + self.gamma * q_next - q\n",
    "                else:\n",
    "                    delta = r - q\n",
    "                \n",
    "                \n",
    "                self.E =  self.gamma * self.mlambda * self.E +phi(s,a)\n",
    "                self.W = self.W + self.step_size * delta * self.E\n",
    "\n",
    "                # reassign s and a\n",
    "                s = s_next\n",
    "                a = a_next\n",
    "\n",
    "\n",
    "        self.iterations += iterations\n",
    "\n",
    "        # Derive value function\n",
    "        for d in range(self.env.dealer_space):\n",
    "            for p in range(self.env.player_space):\n",
    "                self.V[d,p] = max([self.cal_Q((p+1,d+1),0),self.cal_Q((p+1,d+1),1)])\n",
    "                \n",
    "    def plot_frame(self, ax):\n",
    "        def get_stat_val(x, y):\n",
    "            return self.V[x, y]\n",
    "\n",
    "        X = np.arange(0, self.env.dealer_space, 1)\n",
    "        Y = np.arange(0, self.env.player_space, 1)\n",
    "        X, Y = np.meshgrid(X, Y)\n",
    "        Z = get_stat_val(X, Y)\n",
    "        \n",
    "        surf = ax.plot_surface(X, Y, Z, rstride=1, cstride=1,\n",
    "                               cmap=cm.coolwarm, linewidth=0, antialiased=False)\n",
    "        return surf\n",
    "#%%\n",
    "\n",
    "agent = Sarsa_Agent(env, 0.5)\n",
    "#%%\n",
    "for i in range (1):\n",
    "    agent.train(10000)\n",
    "\n",
    "#print(\"learned values:\",agent.V)\n",
    "#agent.W"
   ]
  },
  {
   "cell_type": "code",
   "execution_count": 29,
   "metadata": {
    "collapsed": false
   },
   "outputs": [
    {
     "name": "stdout",
     "output_type": "stream",
     "text": [
      "done  0 1 0\n",
      "done  0 1 1\n",
      "done  1 2 2\n",
      "done  2 4 4\n",
      "done  3 8 8\n",
      "done  4 16 16\n",
      "done  5 32 32\n",
      "done  6 64 64\n",
      "done  7 128 128\n",
      "done  8 256 256\n",
      "done  9 512 512\n",
      "done  10 1024 1024\n",
      "done  11 2048 2048\n",
      "done  12 4096 4096\n",
      "done  13 8192 8192\n",
      "done  14 16384 16384\n",
      "done  0 32768 32768\n"
     ]
    },
    {
     "data": {
      "image/png": "[encoded data removed]",
      "text/plain": [
       "<matplotlib.figure.Figure at 0x1161dc198>"
      ]
     },
     "metadata": {},
     "output_type": "display_data"
    }
   ],
   "source": [
    "def animate(frame):\n",
    "    i = agent.iterations\n",
    "    step_size = i\n",
    "    step_size = max(1, step_size)\n",
    "    step_size = min(step_size, 2 ** 16)\n",
    "    agent.train(step_size)\n",
    "\n",
    "    ax.clear()\n",
    "    surf =  agent.plot_frame(ax)\n",
    "    plt.title('frame:%s step_size:%s ' % (frame, step_size) )\n",
    "    # plt.draw()\n",
    "    fig.canvas.draw()\n",
    "    print(\"done \", frame, step_size, i)\n",
    "    return surf\n",
    "\n",
    "#%%\n",
    "import matplotlib.pyplot as plt\n",
    "import matplotlib.animation as animation\n",
    "from mpl_toolkits.mplot3d import Axes3D\n",
    "from matplotlib import cm\n",
    "%matplotlib inline \n",
    "\n",
    "\n",
    "mlambda = 0.2\n",
    "agent = Sarsa_Agent(env,mlambda)\n",
    "fig = plt.figure(\"N100\")\n",
    "ax = fig.add_subplot(111, projection='3d')\n",
    "\n",
    "# ani = animation.FuncAnimation(fig, animate, 32, repeat=False)\n",
    "ani = animation.FuncAnimation(fig, animate, 15, repeat=False)\n",
    "\n",
    "# note: requires gif writer; swap with plt.show()\n",
    "ani.save('Sarsa_Agent_easy21.gif', writer='imagemagick', fps=3)\n",
    "# plt.show()"
   ]
  },
  {
   "cell_type": "code",
   "execution_count": 30,
   "metadata": {
    "collapsed": false
   },
   "outputs": [
    {
     "data": {
      "text/html": [
       "<img src=\"Sarsa_Agent_easy21.gif\"/>"
      ],
      "text/plain": [
       "<IPython.core.display.Image object>"
      ]
     },
     "execution_count": 30,
     "metadata": {},
     "output_type": "execute_result"
    }
   ],
   "source": [
    "from IPython.display import Image\n",
    "Image(url=\"Sarsa_Agent_easy21.gif\")"
   ]
  },
  {
   "cell_type": "markdown",
   "metadata": {},
   "source": [
    "## Discussion and Results"
   ]
  },
  {
   "cell_type": "code",
   "execution_count": 45,
   "metadata": {
    "collapsed": false
   },
   "outputs": [
    {
     "data": {
      "text/html": [
       "<img src=\"comparison_with_different_lambda.png\"/>"
      ],
      "text/plain": [
       "<IPython.core.display.Image object>"
      ]
     },
     "execution_count": 45,
     "metadata": {},
     "output_type": "execute_result"
    }
   ],
   "source": [
    "from IPython.display import Image\n",
    "Image(url=\"comparison_with_different_lambda.png\")"
   ]
  },
  {
   "cell_type": "markdown",
   "metadata": {},
   "source": [
    "The above graph compares different algorithms we used for Easy21. \n",
    "\n",
    "- learning with different $\\lambda$ makes a difference in learning, lower to intermediate values are learning better (0 to 0.4). We could conclude that MC control ($\\lambda=1$) is learning the slowest among all different lambda values because MC has the highest variance among all sarsa($\\lambda$) leaners. \n",
    "\n",
    "- With less variables to learn, function approximation decreases learning time in Easy21. Our last assignment presented the result without function approximation.  At iteration 3000, most values are still not accurate yet. In this assignment, at step 3000, we could see that the values are well approximations of the optimal values. \n",
    "\n",
    "- However, the fast learning is at the cost of some precision since the features are generalized.  The overlapping regions led to strange results, likely caused by having had certain states triggering multiple regions, and having the sum of their weights lead to values greater than one.  These regions should be removed—no significant benefit was observed from them."
   ]
  },
  {
   "cell_type": "markdown",
   "metadata": {
    "collapsed": true
   },
   "source": [
    "## 2. Mountain-Car task"
   ]
  },
  {
   "cell_type": "markdown",
   "metadata": {},
   "source": [
    "### (1) mountain car environment\n",
    "We first implemented the environment of the mountain car based on the example 8.2 (first version of sutton's book)."
   ]
  },
  {
   "cell_type": "code",
   "execution_count": 32,
   "metadata": {
    "collapsed": true
   },
   "outputs": [],
   "source": [
    "'''\n",
    "# mountain car has two variables: position(x-axis) and velocity\n",
    "# -1.2 <= position <= 0.5\n",
    "# -0.07 <= velocity <= 0.07\n",
    "'''\n",
    "\n",
    "from pylab import cos\n",
    "import numpy as np\n",
    "\n",
    "class mountainCar():\n",
    "    \n",
    "    def __init__(self):\n",
    "        self._reset()\n",
    "        self.nA = 3\n",
    "        \n",
    "        self.position_space = [-1.2, 0.5]\n",
    "        self.velocity_space = [-0.07, 0.07]\n",
    "        \n",
    "        self.discrete_position_space = np.linspace(-1.2,0.5,30)\n",
    "        self.discrete_velocity_space = np.linspace(-0.07,0.07,30)\n",
    "        \n",
    "        \n",
    "    # each episode starts from a random position and velocity\n",
    "    # which are choosen with uniformly within the ranges\n",
    "    def _reset(self):\n",
    "        self.position = np.random.uniform(low=-1.2, high=0.5, size=None)\n",
    "        self.velocity = np.random.uniform(low=-0.07, high=0.07, size=None)\n",
    "        return self.position, self.velocity\n",
    "\n",
    "    def _step(self, action):\n",
    "    #position,v = self.position, self.velocity\n",
    "        if not action in (-1,0,1):\n",
    "            print('Invalid action:', action)\n",
    "            raise \"StandardError\"\n",
    "\n",
    "        self.velocity += 0.001*action - 0.0025*cos(3*self.position)\n",
    "        if self.velocity < -0.07:\n",
    "            self.velocity = -0.07\n",
    "        elif self.velocity >= 0.07:\n",
    "            self.velocity = 0.07\n",
    "            \n",
    "        self.position += self.velocity\n",
    "        if self.position >= 0.5:\n",
    "            return None, -1\n",
    "        if self.position < -1.2:\n",
    "            self.position = -1.2\n",
    "            self.velocity = 0.0\n",
    "        return (self.position, self.velocity), -1"
   ]
  },
  {
   "cell_type": "markdown",
   "metadata": {},
   "source": [
    "### (2) feature encoding with tile coding \n",
    "We encode the feature space of the mountaion car as 4 tilings of 8x8 grids with a shift of 1/4 of a tile size. We add one extra row and one extra column so that every point is covered by each tiling. Since we are doing control, the features $\\phi(s,a)$ are defined based on states and actions."
   ]
  },
  {
   "cell_type": "code",
   "execution_count": 33,
   "metadata": {
    "collapsed": true
   },
   "outputs": [],
   "source": [
    "import math\n",
    "# this code is inspired from https://github.com/ctevans/.../Tilecoder.py\n",
    "\n",
    "# mountain car has two variables: position(x-axis) and velocity\n",
    "# -1.2 <= position <= 0.5\n",
    "# -0.07 <= velocity <= 0.07\n",
    "\n",
    "# devide the 2D space into an 8 by 8 grid\n",
    "# then shift this grid with 1/4 of a tile width to obtain 4 tilings (partitions) \n",
    "numTiles = 8 \n",
    "numTilings = 4\n",
    "\n",
    "positionTileMove = ((0.5 + 1.2) / numTiles) / numTilings\n",
    "velocityTileMove = ((0.07 + 0.07) / numTiles) /numTilings\n",
    "\n",
    "# in order to make sure all points are covered after shifting \n",
    "# add one extra row and one extra column for shifting\n",
    "# numver of total features  = 9x9x4\n",
    "numFeatures = numTilings * (numTiles+1) * (numTiles+1)\n",
    "\n",
    "\n",
    "# x = position, y = velocity\n",
    "# note move a tiling by (a, b), then find the index of a point\n",
    "# is the same as moving the points by (-a, -b)\n",
    "# shift direction in this code is to the left-bottom corner\n",
    "def tilecode(x,y,tileIndices):\n",
    "    \n",
    "    # find the distance of x to the leftmost position\n",
    "    x = x + 1.2\n",
    "    # find the distance of y to smallest velocity\n",
    "    y = y + 0.07\n",
    "\n",
    "    for i in range (numTilings):\n",
    "        \n",
    "        # in tiling i, we move a points by \n",
    "        # (-i*positionTileMove,i*velocityTileMove) for feature encoding\n",
    "        xMove = i * (-positionTileMove)\n",
    "        yMove = i * (-velocityTileMove)\n",
    "\t\n",
    "        xTileIdx = int(numTiles * (x - xMove)/1.7)\n",
    "        yTileIdx = int(numTiles * (y - yMove)/0.14)\n",
    "\n",
    "        tileIndices[i] = i * 81 + ( yTileIdx * 9 + xTileIdx)\n",
    "    \n",
    "    \n",
    "def tileCoderIndices(x,y):\n",
    "    tileIndices = [-1]*numTilings\n",
    "    tilecode(x,y,tileIndices)\n",
    "    #print('Tile indices for input (%s,%s) are : '%(x,y), tileIndices)\n",
    "    return tileIndices\n",
    "                                                \n",
    "#printTileCoderIndices(0.5,0.07)\n",
    "#[-1, -1, -1, -1]\n",
    "#Tile indices for input (0.5,0.07) are :  [80, 161, 242, 323]\n",
    "\n",
    "# INPUTS\n",
    "#   s: state =(position,velocity) \n",
    "#   a: action, integer: throttle reverse (-1), zero throttle (0), throttle forwards (1)\n",
    "# returns a binary vector of length (4*9*9)*3 representing the features\n",
    "def phi(s, a):\n",
    "    tmp = np.zeros(shape=(4*9*9,3)) #zeros array of dim 3*6*2\n",
    "    #putting one where a feature is on\n",
    "    for i in tileCoderIndices(s[0],s[1]):\n",
    "            tmp[i,a] = 1 \n",
    "    return(tmp.flatten()) #returning 'vectorized' (1-dim) array"
   ]
  },
  {
   "cell_type": "markdown",
   "metadata": {},
   "source": [
    "### (3) SARSA($\\lambda$) with LA\n",
    "We then modified SARSA($\\lambda$) with LA for the mountain car problem."
   ]
  },
  {
   "cell_type": "code",
   "execution_count": 46,
   "metadata": {
    "collapsed": false
   },
   "outputs": [
    {
     "name": "stdout",
     "output_type": "stream",
     "text": [
      "finished in 2 steps\n",
      "finished in 2 steps\n",
      "finished in 3930 steps\n",
      "finished in 3991 steps\n",
      "finished in 585 steps\n",
      "finished in 37 steps\n",
      "finished in 2733 steps\n",
      "finished in 2767 steps\n",
      "finished in 1040 steps\n",
      "finished in 1087 steps\n",
      "finished in 1327 steps\n",
      "finished in 1387 steps\n"
     ]
    },
    {
     "data": {
      "image/png": "[encoded data removed]",
      "text/plain": [
       "<matplotlib.figure.Figure at 0x115f87898>"
      ]
     },
     "metadata": {},
     "output_type": "display_data"
    }
   ],
   "source": [
    "# ### (3) SARSA($\\lambda$) with LA\n",
    "# We then modified SARSA($\\lambda$) with LA for the mountain car problem.\n",
    "\n",
    "# In[63]:\n",
    "\n",
    "class Sarsa_Agent:\n",
    "    def __init__(self, environment, mlambda, gamma=1, step_size=0.01):\n",
    "\n",
    "        self.env = environment\n",
    "        self.mlambda = mlambda\n",
    "        self.gamma = gamma\n",
    "        self.step_size = step_size\n",
    "\n",
    "        self.V = {}\n",
    "#        self.V = np.zeros((len(self.env.discrete_position_space),\n",
    "#                           len(self.env.discrete_velocity_space)))\n",
    "        \n",
    "        self.W = np.zeros(4*9*9*3)\n",
    "        self.E = np.zeros(4*9*9*3)\n",
    "        \n",
    "        self.iterations = 0\n",
    "        \n",
    "        \n",
    "    # Q is simply the dot product of phi and w\n",
    "    def cal_Q(self,s,a):\n",
    "        return np.dot(phi(s,a),self.W)\n",
    "\n",
    "\n",
    "          # get optimal action based on ε-greedy exploration strategy  \n",
    "    def epsilon_greedy_action(self, state, epsilon=0.05):\n",
    "        # epsilon greedy policy\n",
    "        if np.random.random() < epsilon:\n",
    "            return np.random.choice([0,1,-1])\n",
    "        else:\n",
    "            action = np.argmax([self.cal_Q(state,-1),\n",
    "                                self.cal_Q(state,0), \n",
    "                                self.cal_Q(state,1)])-1\n",
    "            return action\n",
    "        \n",
    "    \n",
    "    def train(self, iterations):        \n",
    "        # Loop episodes\n",
    "        for episode in range(iterations):\n",
    "            self.E = np.zeros(4*9*9*3)\n",
    "\n",
    "            # get initial state for current episode\n",
    "            s = self.env._reset()\n",
    "            #print(\"s:\", s)\n",
    "            a = self.epsilon_greedy_action(s)\n",
    "            a_next = a\n",
    "            couner = 0\n",
    "\n",
    "            \n",
    "            # Execute until game ends\n",
    "            while s != None:\n",
    "                \n",
    "                # execute action\n",
    "                s_next, r = self.env._step(a)\n",
    "                q = self.cal_Q(s,a)\n",
    "                                \n",
    "                if s_next != None:\n",
    "                    # choose next action with epsilon greedy policy\n",
    "                    a_next = self.epsilon_greedy_action(s_next)\n",
    "                    q_next = self.cal_Q(s_next,a_next)\n",
    "                    delta = r + self.gamma * q_next - q\n",
    "                else:\n",
    "                    delta = r - q\n",
    "                \n",
    "                \n",
    "                self.E =  self.gamma * self.mlambda * self.E +phi(s,a)\n",
    "                self.W = self.W + self.step_size * delta * self.E\n",
    "\n",
    "                # reassign s and a\n",
    "                s = s_next\n",
    "                a = a_next\n",
    "                couner += 1 \n",
    "                \n",
    "        print(\"finished in %s steps\"% couner)\n",
    "        self.iterations += iterations\n",
    "        \n",
    "\n",
    "        ##### BUILD A DICTIONARY HERE\n",
    "        # Derive value function\n",
    "        for d in self.env.discrete_position_space:\n",
    "            for p in self.env.discrete_velocity_space:\n",
    "                self.V[(d,p)] = max([self.cal_Q((d,p),0),\n",
    "                                   self.cal_Q((d,p),1), \n",
    "                                   self.cal_Q((d,p),-1)])\n",
    "        #print(self.V)\n",
    "                \n",
    "    def plot_frame(self, ax):\n",
    "        def get_stat_val(x, y):\n",
    "            return self.V[(x, y)]\n",
    "\n",
    "        X = self.env.discrete_position_space\n",
    "        Y = self.env.discrete_velocity_space\n",
    "        X, Y = np.meshgrid(X, Y)\n",
    "        \n",
    "        Z = np.zeros((len(self.env.discrete_position_space),\n",
    "                      len(self.env.discrete_velocity_space)))\n",
    "        for i in range(len(self.env.discrete_position_space)):\n",
    "            for j in range(len(self.env.discrete_velocity_space)):\n",
    "                Z[i,j] = get_stat_val(self.env.discrete_position_space[i],\n",
    "                                      self.env.discrete_velocity_space[j])\n",
    "        \n",
    "        \n",
    "        surf = ax.plot_surface(X, Y, Z, rstride=1, cstride=1,\n",
    "                               cmap=cm.coolwarm, linewidth=0, antialiased=False)\n",
    "        return surf\n",
    "    \n",
    "def animate(frame):\n",
    "    i = agent.iterations\n",
    "    #step_size = i\n",
    "    step_size = 1\n",
    "    agent.train(step_size)\n",
    "\n",
    "    ax.clear()\n",
    "    surf =  agent.plot_frame(ax)\n",
    "    plt.title('frame:%s step_size:%s ' % (frame, step_size) )\n",
    "    # plt.draw()\n",
    "    fig.canvas.draw()\n",
    "    #print(\"done \", frame, step_size, i)\n",
    "    return surf\n",
    "\n",
    "#%%\n",
    "import matplotlib.pyplot as plt\n",
    "import matplotlib.animation as animation\n",
    "from mpl_toolkits.mplot3d import Axes3D\n",
    "from matplotlib import cm\n",
    "get_ipython().magic(u'matplotlib inline')\n",
    "\n",
    "env1 = mountainCar()\n",
    "mlambda = 0.2\n",
    "agent = Sarsa_Agent(env1,mlambda)\n",
    "fig = plt.figure(\"N100\")\n",
    "ax = fig.add_subplot(111, projection='3d')\n",
    "\n",
    "# ani = animation.FuncAnimation(fig, animate, 32, repeat=False)\n",
    "ani = animation.FuncAnimation(fig, animate, 10, repeat=False)\n",
    "\n",
    "# note: requires gif writer; swap with plt.show()\n",
    "ani.save('Sarsa_Agent_mountaincar_1_episode_per_frame.gif', writer='imagemagick', fps=3)\n",
    "# plt.show()"
   ]
  },
  {
   "cell_type": "code",
   "execution_count": 47,
   "metadata": {
    "collapsed": false
   },
   "outputs": [
    {
     "data": {
      "text/html": [
       "<img src=\"Sarsa_Agent_mountaincar_1_episode_per_frame.gif\"/>"
      ],
      "text/plain": [
       "<IPython.core.display.Image object>"
      ]
     },
     "execution_count": 47,
     "metadata": {},
     "output_type": "execute_result"
    }
   ],
   "source": [
    "from IPython.display import Image\n",
    "Image(url=\"Sarsa_Agent_mountaincar_1_episode_per_frame.gif\")"
   ]
  },
  {
   "cell_type": "code",
   "execution_count": 48,
   "metadata": {
    "collapsed": false
   },
   "outputs": [
    {
     "name": "stdout",
     "output_type": "stream",
     "text": [
      "finished in 15 steps\n",
      "finished in 252 steps\n",
      "finished in 200 steps\n",
      "finished in 7 steps\n",
      "finished in 66 steps\n",
      "finished in 79 steps\n",
      "finished in 70 steps\n",
      "finished in 86 steps\n",
      "finished in 11 steps\n",
      "finished in 205 steps\n",
      "finished in 91 steps\n",
      "finished in 52 steps\n"
     ]
    },
    {
     "data": {
      "image/png": "[encoded data removed]",
      "text/plain": [
       "<matplotlib.figure.Figure at 0x10b207240>"
      ]
     },
     "metadata": {},
     "output_type": "display_data"
    }
   ],
   "source": [
    "def animate(frame):\n",
    "    i = agent.iterations\n",
    "    #step_size = i\n",
    "    step_size = 100\n",
    "    agent.train(step_size)\n",
    "\n",
    "    ax.clear()\n",
    "    surf =  agent.plot_frame(ax)\n",
    "    plt.title('frame:%s step_size:%s ' % (frame, step_size) )\n",
    "    # plt.draw()\n",
    "    fig.canvas.draw()\n",
    "    #print(\"done \", frame, step_size, i)\n",
    "    return surf\n",
    "\n",
    "#%%\n",
    "import matplotlib.pyplot as plt\n",
    "import matplotlib.animation as animation\n",
    "from mpl_toolkits.mplot3d import Axes3D\n",
    "from matplotlib import cm\n",
    "get_ipython().magic(u'matplotlib inline')\n",
    "\n",
    "env1 = mountainCar()\n",
    "mlambda = 0.2\n",
    "agent = Sarsa_Agent(env1,mlambda)\n",
    "fig = plt.figure(\"N100\")\n",
    "ax = fig.add_subplot(111, projection='3d')\n",
    "\n",
    "# ani = animation.FuncAnimation(fig, animate, 32, repeat=False)\n",
    "ani = animation.FuncAnimation(fig, animate, 10, repeat=False)\n",
    "\n",
    "# note: requires gif writer; swap with plt.show()\n",
    "ani.save('Sarsa_Agent_mountaincar_100_episode_per_frame.gif', writer='imagemagick', fps=3)\n",
    "# plt.show()\n"
   ]
  },
  {
   "cell_type": "code",
   "execution_count": 49,
   "metadata": {
    "collapsed": false
   },
   "outputs": [
    {
     "data": {
      "text/html": [
       "<img src=\"Sarsa_Agent_mountaincar_100_episode_per_frame.gif\"/>"
      ],
      "text/plain": [
       "<IPython.core.display.Image object>"
      ]
     },
     "execution_count": 49,
     "metadata": {},
     "output_type": "execute_result"
    }
   ],
   "source": [
    "from IPython.display import Image\n",
    "Image(url=\"Sarsa_Agent_mountaincar_100_episode_per_frame.gif\")"
   ]
  },
  {
   "cell_type": "markdown",
   "metadata": {
    "collapsed": false
   },
   "source": [
    "### Discussion and Conclusion\n",
    "\n",
    "- I found that in the mountain car environment, tile coding seems to help generalize states better than easy21, and the values learned are smooth. \n",
    "- More episodes bring down the value estimations because all values are initialized as zero which are too optimistic. The more states we visited, the value estimations became worse for those states. As in our graph, within 10 episodes, the smallest value is around -8; if we ran 1000 episode, the smallest value is around -50. \n",
    "- Compare running 10 episodes or 1000 episodes, the latter learned faster to reach the goal. In the first ten episodes, some times it takes the car a few thousand steps to reach the goal. After 100 episodes, it averagely takes a few hundred steps to reach the goal. "
   ]
  },
  {
   "cell_type": "code",
   "execution_count": null,
   "metadata": {
    "collapsed": true
   },
   "outputs": [],
   "source": []
  }
 ],
 "metadata": {
  "kernelspec": {
   "display_name": "Python 3",
   "language": "python",
   "name": "python3"
  },
  "language_info": {
   "codemirror_mode": {
    "name": "ipython",
    "version": 3
   },
   "file_extension": ".py",
   "mimetype": "text/x-python",
   "name": "python",
   "nbconvert_exporter": "python",
   "pygments_lexer": "ipython3",
   "version": "3.6.0"
  }
 },
 "nbformat": 4,
 "nbformat_minor": 2
}
