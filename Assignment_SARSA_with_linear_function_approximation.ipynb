{
 "cells": [
  {
   "cell_type": "markdown",
   "metadata": {},
   "source": [
    "# Learning with SARSA($\\lambda$) & Linear function approximation \n",
    "\n",
    "## Yue Dong & Ali Emami\n",
    "In this assignment, Ali and I want to demonstrate the experiments of performing SARSA($\\lambda$) using linear function approximation. We use the SARSA algorithm for on-policy control, implemented using the backward-view (eligibility traces).\n",
    "\n",
    "The difference of using linear function approximation in SARSA is that the action-value function Q(s,a) is approximated linearly by the function\n",
    "$$Q(s,a,W)= \\phi(s,a)^T * W$$ where W is a vector and $\\phi$ a vector representing features."
   ]
  },
  {
   "cell_type": "markdown",
   "metadata": {},
   "source": [
    "## 1. Learning Easy21 with SARSA($\\lambda$) and linear function approximation"
   ]
  },
  {
   "cell_type": "markdown",
   "metadata": {},
   "source": [
    "The environment are defined in the script easy21game.py. The easy 21 is a simplified version of blackjack where the following rules are use:\n",
    "\n",
    "- In each round, we draw cards with replacement from an infinite deck of cards. \n",
    "- Each draw results in a black (prob. 2/3) or red (prob. 2/3) card with values among 1 to 10. So there is no usable ace or face cards.\n",
    "- At the beginning of the game, both player and dealer can only draw one black card\n",
    "- Each turn the player may either stick or hit, hit means the player will draw another card, until he/she stick and the player side ends.\n",
    "- Then the value of black cards are added and the value of red card are subtracted. \n",
    "- busted and lose the game if player's sum exceeds 21 or smaller than 1. Lose the game and receive reward -1.\n",
    "- Otherwise, dealer's turn. dealer plays a fixed policy of sticks on any sum greater or equals to 17. If the dealer goes bust, then the player wins; otherwise, compare dealer's and player's card and the outcome is – win (reward +1), lose (reward -1), or draw (reward 0)."
   ]
  },
  {
   "cell_type": "markdown",
   "metadata": {},
   "source": [
    "### Linear function approximation\n",
    "To use linear function approximation, we define $\\phi$ and W to be a vector of length 36. \n",
    "$\\phi(s,a)$ is a binary feature vector with $3*6*2 = 36$ features. Each binary feature\n",
    " has a value of 1 if (s,a) lies within the cuboid of state-space corresponding to\n",
    " that feature, and the action corresponding to that feature. The cuboids have\n",
    " the following overlapping intervals:\n",
    "   - dealer(s) = [1: 4]; [4: 7]; [7: 10]\n",
    "   - player(s) = [1: 6]; [4: 9]; [7: 12]; [10: 15]; [13: 18]; [16: 21]\n",
    "   - a = 1 (hit); a = 0 (stick)\n",
    "\n",
    "\n",
    "\n"
   ]
  },
  {
   "cell_type": "code",
   "execution_count": 3,
   "metadata": {
    "collapsed": false
   },
   "outputs": [],
   "source": [
    "#!/usr/bin/env python3\n",
    "# -*- coding: utf-8 -*-\n",
    "\"\"\"\n",
    "Created on Wed Mar 22 22:08:39 2017\n",
    "\n",
    "@author: yuedong\n",
    "\"\"\"\n",
    "\n",
    "import os\n",
    "os.chdir(\"/Users/yuedong/Downloads/comp767_easy21LA/\")\n",
    "#%%\n",
    "\n",
    "from easy21game import Easy21\n",
    "import numpy as np\n",
    "from matplotlib import cm\n",
    "#%%\n",
    "env = Easy21()\n",
    "\n",
    "#%% code the state-action paris into features\n",
    "\n",
    "# INPUT\n",
    "#   dealerState: card value of the dealer, integer between 1 and 10\n",
    "# OUTPUT\n",
    "#   boolean vector coding the dealer card to 3 intervals\n",
    "def dealerFeatures(dealerState):\n",
    "    dealerVec = np.array([dealerState in [1,2,3,4], dealerState in [4,5,6,7], \n",
    "                   dealerState in [7,8,9,10]]).astype('int')\n",
    "    return np.where(dealerVec)[0]\n",
    "  \n",
    "    \n",
    "# INPUT\n",
    "#   playerState: sum of the player, integer between 1 and 21\n",
    "# OUTPUT\n",
    "#   boolean vector coding the player card interval on 6 bits\n",
    "def playerFeatures(playerState):\n",
    "    playerVec = np.array([playerState in [1,2,3,4,5,6], \n",
    "                     playerState in [4,5,6,7,8,9],\n",
    "                     playerState in [7,8,9,10,11,12],\n",
    "                     playerState in [10,11,12,13,14,15],\n",
    "                     playerState in [13,14,15,16,17,18],\n",
    "                     playerState in [16,17,18,19,20,21]]).astype('int')\n",
    "    return np.where(playerVec)[0]\n",
    "\n",
    "\n",
    "# INPUTS\n",
    "#   s: state =(playerState,dealerState) (as defined in env._step)\n",
    "#   a: action, integer: HIT(1) or STICK(0)\n",
    "# returns a binary vector of length 36 representing the features\n",
    "def phi(s, a):\n",
    "    tmp = np.zeros(shape=(3,6,2)) #zeros array of dim 3*6*2\n",
    "    #putting one where a feature is on\n",
    "    for i in dealerFeatures(s[1]):\n",
    "        for j in playerFeatures(s[0]):\n",
    "            tmp[i,j,a] = 1 \n",
    "    return(tmp.flatten()) #returning 'vectorized' (1-dim) array\n",
    "#%%\n",
    "class Sarsa_Agent:\n",
    "    def __init__(self, environment, mlambda, gamma=1, step_size=0.01):\n",
    "\n",
    "        self.env = environment\n",
    "        self.mlambda = mlambda\n",
    "        self.gamma = gamma\n",
    "        self.step_size = step_size\n",
    "        #initialize everything\n",
    "#        self.Q = np.zeros((self.env.dealer_space,\n",
    "#                           self.env.player_space, \n",
    "#                           self.env.nA))\n",
    "         \n",
    "        self.V = np.zeros((self.env.dealer_space,\n",
    "                           self.env.player_space))\n",
    "        \n",
    "        self.W = np.zeros(36)\n",
    "        self.E = np.zeros(36)\n",
    "        \n",
    "        self.iterations = 0\n",
    "        \n",
    "        \n",
    "    # Q is simply the dot product of phi and w\n",
    "    def cal_Q(self,s,a):\n",
    "        return np.dot(phi(s,a),self.W)\n",
    "\n",
    "\n",
    "          # get optimal action based on ε-greedy exploration strategy  \n",
    "    def epsilon_greedy_action(self, state, epsilon=0.05):\n",
    "        # action = 0 stick\n",
    "        # action = 1 hit\n",
    "        hit = 1\n",
    "        stick = 0\n",
    "        # epsilon greedy policy\n",
    "        if np.random.random() < epsilon:\n",
    "            r_action = hit if np.random.random()<0.5 else stick\n",
    "            return r_action\n",
    "        else:\n",
    "            action = np.argmax([self.cal_Q(state,0),self.cal_Q(state,1)])\n",
    "            return action\n",
    "        \n",
    "    \n",
    "    def train(self, iterations):        \n",
    "        # Loop episodes\n",
    "        for episode in range(iterations):\n",
    "            self.E = np.zeros(36)\n",
    "\n",
    "            # get initial state for current episode\n",
    "            s = self.env._reset()\n",
    "            a = self.epsilon_greedy_action(s)\n",
    "            a_next = a\n",
    "            term = False\n",
    "            #r = 0\n",
    "            \n",
    "            # Execute until game ends\n",
    "            while not term:\n",
    "                \n",
    "                # execute action\n",
    "                s_next, r, term = self.env._step(a)[0:3]\n",
    "                q = self.cal_Q(s,a)\n",
    "                                \n",
    "                if not term:\n",
    "                    # choose next action with epsilon greedy policy\n",
    "                    a_next = self.epsilon_greedy_action(s_next)\n",
    "                    q_next = self.cal_Q(s_next,a_next)\n",
    "                    delta = r + self.gamma * q_next - q\n",
    "                else:\n",
    "                    delta = r - q\n",
    "                \n",
    "                \n",
    "                self.E =  self.gamma * self.mlambda * self.E +phi(s,a)\n",
    "                self.W = self.W + self.step_size * delta * self.E\n",
    "\n",
    "                # reassign s and a\n",
    "                s = s_next\n",
    "                a = a_next\n",
    "\n",
    "\n",
    "        self.iterations += iterations\n",
    "\n",
    "        # Derive value function\n",
    "        for d in range(self.env.dealer_space):\n",
    "            for p in range(self.env.player_space):\n",
    "                self.V[d,p] = max([self.cal_Q((p+1,d+1),0),self.cal_Q((p+1,d+1),1)])\n",
    "                \n",
    "    def plot_frame(self, ax):\n",
    "        def get_stat_val(x, y):\n",
    "            return self.V[x, y]\n",
    "\n",
    "        X = np.arange(0, self.env.dealer_space, 1)\n",
    "        Y = np.arange(0, self.env.player_space, 1)\n",
    "        X, Y = np.meshgrid(X, Y)\n",
    "        Z = get_stat_val(X, Y)\n",
    "        \n",
    "        surf = ax.plot_surface(X, Y, Z, rstride=1, cstride=1,\n",
    "                               cmap=cm.coolwarm, linewidth=0, antialiased=False)\n",
    "        return surf\n",
    "#%%\n",
    "\n",
    "agent = Sarsa_Agent(env, 0.5)\n",
    "#%%\n",
    "for i in range (1):\n",
    "    agent.train(10000)\n",
    "\n",
    "#print(\"learned values:\",agent.V)\n",
    "#agent.W"
   ]
  },
  {
   "cell_type": "code",
   "execution_count": 5,
   "metadata": {
    "collapsed": false
   },
   "outputs": [
    {
     "name": "stdout",
     "output_type": "stream",
     "text": [
      "('done ', 0, 1, 0)\n",
      "('done ', 0, 1, 1)\n",
      "('done ', 1, 2, 2)\n",
      "('done ', 2, 4, 4)\n",
      "('done ', 3, 8, 8)\n",
      "('done ', 4, 16, 16)\n",
      "('done ', 5, 32, 32)\n",
      "('done ', 6, 64, 64)\n",
      "('done ', 7, 128, 128)\n",
      "('done ', 8, 256, 256)\n",
      "('done ', 9, 512, 512)\n",
      "('done ', 10, 1024, 1024)\n",
      "('done ', 11, 2048, 2048)\n",
      "('done ', 12, 4096, 4096)\n",
      "('done ', 13, 8192, 8192)\n",
      "('done ', 14, 16384, 16384)\n",
      "('done ', 0, 32768, 32768)\n"
     ]
    },
    {
     "data": {
      "image/png": "[encoded data removed]",
      "text/plain": [
       "<matplotlib.figure.Figure at 0x11740f050>"
      ]
     },
     "metadata": {},
     "output_type": "display_data"
    }
   ],
   "source": [
    "def animate(frame):\n",
    "    i = agent.iterations\n",
    "    step_size = i\n",
    "    step_size = max(1, step_size)\n",
    "    step_size = min(step_size, 2 ** 16)\n",
    "    agent.train(step_size)\n",
    "\n",
    "    ax.clear()\n",
    "    surf =  agent.plot_frame(ax)\n",
    "    plt.title('frame:%s step_size:%s ' % (frame, step_size) )\n",
    "    # plt.draw()\n",
    "    fig.canvas.draw()\n",
    "    print(\"done \", frame, step_size, i)\n",
    "    return surf\n",
    "\n",
    "#%%\n",
    "import matplotlib.pyplot as plt\n",
    "import matplotlib.animation as animation\n",
    "from mpl_toolkits.mplot3d import Axes3D\n",
    "from matplotlib import cm\n",
    "%matplotlib inline \n",
    "\n",
    "\n",
    "mlambda = 0.2\n",
    "agent = Sarsa_Agent(env,mlambda)\n",
    "fig = plt.figure(\"N100\")\n",
    "ax = fig.add_subplot(111, projection='3d')\n",
    "\n",
    "# ani = animation.FuncAnimation(fig, animate, 32, repeat=False)\n",
    "ani = animation.FuncAnimation(fig, animate, 15, repeat=False)\n",
    "\n",
    "# note: requires gif writer; swap with plt.show()\n",
    "ani.save('Sarsa_Agent_py.gif', writer='imagemagick', fps=3)\n",
    "# plt.show()"
   ]
  },
  {
   "cell_type": "code",
   "execution_count": 8,
   "metadata": {
    "collapsed": false
   },
   "outputs": [
    {
     "data": {
      "text/html": [
       "<img src=\"Sarsa_Agent_py.gif\"/>"
      ],
      "text/plain": [
       "<IPython.core.display.Image object>"
      ]
     },
     "execution_count": 8,
     "metadata": {},
     "output_type": "execute_result"
    }
   ],
   "source": [
    "from IPython.display import Image\n",
    "Image(url=\"Sarsa_Agent_py.gif\")"
   ]
  },
  {
   "cell_type": "markdown",
   "metadata": {},
   "source": [
    "## Discussion and Results"
   ]
  },
  {
   "cell_type": "code",
   "execution_count": 45,
   "metadata": {
    "collapsed": false
   },
   "outputs": [
    {
     "data": {
      "text/html": [
       "<img src=\"comparison_with_different_lambda.png\"/>"
      ],
      "text/plain": [
       "<IPython.core.display.Image object>"
      ]
     },
     "execution_count": 45,
     "metadata": {},
     "output_type": "execute_result"
    }
   ],
   "source": [
    "from IPython.display import Image\n",
    "Image(url=\"comparison_with_different_lambda.png\")"
   ]
  },
  {
   "cell_type": "markdown",
   "metadata": {},
   "source": [
    "The above graph compares different algorithms we used for Easy21. \n",
    "\n",
    "- learning with different $\\lambda$ makes a difference in learning, lower to intermediate values are learning better (0 to 0.4). We could conclude that MC control ($\\lambda=1$) is learning the slowest among all different lambda values because MC has the highest variance among all sarsa($\\lambda$) leaners. \n",
    "\n",
    "- With less variables to learn, function approximation decreases learning time in Easy21. Our last assignment presented the result without function approximation.  At iteration 3000, most values are still not accurate yet. In this assignment, at step 3000, we could see that the values are well approximations of the optimal values. \n",
    "\n",
    "- However, the fast learning is at the cost of some precision since the features are generalized.  The overlapping regions led to strange results, likely caused by having had certain states triggering multiple regions, and having the sum of their weights lead to values greater than one.  These regions should be removed—no significant benefit was observed from them."
   ]
  },
  {
   "cell_type": "code",
   "execution_count": null,
   "metadata": {
    "collapsed": true
   },
   "outputs": [],
   "source": []
  }
 ],
 "metadata": {
  "kernelspec": {
   "display_name": "Python 2",
   "language": "python",
   "name": "python2"
  },
  "language_info": {
   "codemirror_mode": {
    "name": "ipython",
    "version": 2
   },
   "file_extension": ".py",
   "mimetype": "text/x-python",
   "name": "python",
   "nbconvert_exporter": "python",
   "pygments_lexer": "ipython2",
   "version": "2.7.13"
  }
 },
 "nbformat": 4,
 "nbformat_minor": 2
}
